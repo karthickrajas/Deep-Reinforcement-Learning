{
 "cells": [
  {
   "cell_type": "code",
   "execution_count": 99,
   "metadata": {},
   "outputs": [],
   "source": [
    "from gridworld import gridworld\n",
    "import numpy as np\n",
    "import random\n",
    "import matplotlib.pyplot as plt"
   ]
  },
  {
   "cell_type": "code",
   "execution_count": 130,
   "metadata": {},
   "outputs": [],
   "source": [
    "EPOCHS = 1000"
   ]
  },
  {
   "cell_type": "code",
   "execution_count": 167,
   "metadata": {},
   "outputs": [],
   "source": [
    "class play:\n",
    "    \n",
    "    def __init__(self, initial_position):\n",
    "        # Setting up initial state\n",
    "        self.initial_position = initial_position\n",
    "        # Creating environment with 5 X 5 grid and special states\n",
    "        self.env = gridworld(initial_state = initial_position)\n",
    "        # Policy parameters\n",
    "        self.params = np.random.uniform(0,1, size=(3,))\n",
    "        print(\"generated params....\", self.params)\n",
    "        # Value function weight \n",
    "        self.value_weight = random.random()\n",
    "        # Step size\n",
    "        self.alpha = self.beta = 0.01;self.xi = self.alpha;\n",
    "        # records js\n",
    "        self.js = [0]\n",
    "        # mapping for position and state\n",
    "        self.state_matrix = (np.array(range(25)).reshape(5,5)+1)/25\n",
    "        # possible action\n",
    "        self.possible_actions = [1, 2, 3, 4]\n",
    "        self.j_new = 0\n",
    "        self.positions = []\n",
    "        self.positions.append(initial_position)\n",
    "        self.states = []\n",
    "        self.states.append(self.get_state(initial_position))\n",
    "        self.rewards = []\n",
    "        self.actions = []\n",
    "        self.EPOCHS = EPOCHS\n",
    "        self.print_epoch = EPOCHS/10\n",
    "    \n",
    "    def boltzman_choice(self,position):\n",
    "        agg = 0\n",
    "        for i in self.possible_actions:\n",
    "            denom = np.exp(np.dot(self.params.T,self.get_feature(position, i)))\n",
    "            agg = agg + denom\n",
    "        prob = []\n",
    "        for i in self.possible_actions:\n",
    "            numerator = np.exp(np.dot(self.params.T,self.get_feature(position, i)))\n",
    "            prob.append(numerator/agg)\n",
    "        return prob\n",
    "    \n",
    "    def boltzman(self, position, action):\n",
    "        numerator = np.exp(np.dot(self.params.T,self.get_feature(position, action)))\n",
    "        agg = 0\n",
    "        for i in self.possible_actions:\n",
    "            denom = np.exp(np.dot(self.params.T,self.get_feature(position, i)))\n",
    "            agg = agg + denom\n",
    "        return numerator/agg\n",
    "    \n",
    "    def get_state(self, position):\n",
    "        return self.state_matrix[position[0],position[1]]\n",
    "    \n",
    "    def get_feature(self, position, action):\n",
    "        state = self.get_state(position)\n",
    "        return np.array([1, state/25, action/4])\n",
    "\n",
    "    def alpha_beta(self, t):\n",
    "        alpha = 1 / (divmod(t,50)[0]+1)\n",
    "        beta =  1 / (divmod(t,50)[0]+1)**(2/3)\n",
    "        return alpha, beta\n",
    "    \n",
    "    def get_psi(self, position, action):\n",
    "        state = self.get_state(position)\n",
    "        old_action_feature = self.get_feature(position,action)\n",
    "        summation_term = np.array([0,0,0])\n",
    "        for i in self.possible_actions:\n",
    "            summation_term = summation_term + self.boltzman(position,i)* self.get_feature(position,i)\n",
    "        return old_action_feature - summation_term\n",
    "    \n",
    "    def critic_update(self, old_value_weight, alpha, delta, position):\n",
    "        return old_value_weight + alpha*delta*self.get_state(position)\n",
    "    \n",
    "    def actor_update(self, old_parameter, beta, delta, psi):\n",
    "        return old_parameter + beta* delta* psi\n",
    "    \n",
    "    def run_experiment(self):\n",
    "        for step in range(self.EPOCHS+1):\n",
    "            action_prob = self.boltzman_choice(self.positions[-1])\n",
    "            action = np.random.choice(4,1, action_prob)[0]\n",
    "            action = action+1\n",
    "            self.actions.append(action)\n",
    "            reward, new_position = self.env.step(action-1)\n",
    "            self.rewards.append(reward)\n",
    "            self.alpha, self.beta = self.alpha_beta(step)\n",
    "            self.xi = self.alpha\n",
    "            # Average reward update\n",
    "            self.j_new = (1-self.xi)*self.js[-1] + self.xi*reward\n",
    "            self.js.append(self.j_new)\n",
    "            # TD error\n",
    "            del_t = reward - self.j_new + self.value_weight * self.get_state(new_position) +\\\n",
    "                                            self.value_weight * self.get_state(self.positions[-1])\n",
    "            \n",
    "            # critic update\n",
    "            self.value_weight = self.critic_update(self.value_weight, self.alpha, del_t, self.positions[-1])\n",
    "            \n",
    "            # Actor update\n",
    "            self.params = self.actor_update(self.params, self.beta, del_t, self.get_psi(self.positions[-1],action))\n",
    "            \n",
    "            # update list\n",
    "            self.positions.append(new_position)\n",
    "            self.states.append(self.get_state(new_position))\n",
    "            if step%self.print_epoch==0:\n",
    "                print(\" {0:} | states: {1:}| rewards: {2:}| J : {3:} | updated\".format(\"step:\"+str(step),\\\n",
    "                                                                                        self.states[-1],\\\n",
    "                                                                                        self.rewards[-1],\\\n",
    "                                                                                        self.js[-1]))\n",
    "                print(self.get_psi(self.positions[-1],action))\n",
    "            "
   ]
  },
  {
   "cell_type": "code",
   "execution_count": 168,
   "metadata": {},
   "outputs": [
    {
     "name": "stdout",
     "output_type": "stream",
     "text": [
      "generated params.... [0.83492382 0.71950421 0.51211318]\n",
      " step:0 | states: 0.04| rewards: -1| J : -1.0 | updated\n",
      "[ 0.00000000e+00 -2.16840434e-19  3.33959655e-01]\n",
      " step:100 | states: 0.68| rewards: 0| J : 1.5520349450071082e-09 | updated\n",
      "[nan nan nan]\n",
      " step:200 | states: 0.28| rewards: 0| J : -0.16398218853703467 | updated\n",
      "[nan nan nan]\n",
      " step:300 | states: 1.0| rewards: 0| J : -0.037514518899661634 | updated\n",
      "[nan nan nan]\n",
      " step:400 | states: 0.32| rewards: 0| J : 0.029348614537235872 | updated\n",
      "[nan nan nan]\n",
      " step:500 | states: 0.6| rewards: -1| J : 0.020877583481195755 | updated\n",
      "[nan nan nan]\n",
      " step:600 | states: 0.84| rewards: -1| J : 0.15633689026021239 | updated\n",
      "[nan nan nan]\n",
      " step:700 | states: 0.96| rewards: 0| J : 0.09467292695611132 | updated\n",
      "[nan nan nan]\n",
      " step:800 | states: 0.68| rewards: 0| J : -0.01477997622959391 | updated\n",
      "[nan nan nan]\n",
      " step:900 | states: 0.64| rewards: 0| J : -0.1513295230096728 | updated"
     ]
    },
    {
     "name": "stderr",
     "output_type": "stream",
     "text": [
      "C:\\Users\\Lenovo\\Anaconda3\\lib\\site-packages\\ipykernel_launcher.py:39: RuntimeWarning: invalid value encountered in double_scalars\n",
      "C:\\Users\\Lenovo\\Anaconda3\\lib\\site-packages\\ipykernel_launcher.py:48: RuntimeWarning: invalid value encountered in double_scalars\n"
     ]
    },
    {
     "name": "stdout",
     "output_type": "stream",
     "text": [
      "\n",
      "[nan nan nan]\n",
      " step:1000 | states: 0.68| rewards: 0| J : -0.004423857903212799 | updated\n",
      "[nan nan nan]\n"
     ]
    }
   ],
   "source": [
    "experiment = play([0,0])\n",
    "experiment.run_experiment()"
   ]
  },
  {
   "cell_type": "code",
   "execution_count": 166,
   "metadata": {},
   "outputs": [
    {
     "data": {
      "image/png": "[encoded data removed]",
      "text/plain": [
       "<Figure size 432x288 with 1 Axes>"
      ]
     },
     "metadata": {
      "needs_background": "light"
     },
     "output_type": "display_data"
    }
   ],
   "source": [
    "plt.plot(experiment.js)\n",
    "plt.show()"
   ]
  },
  {
   "cell_type": "code",
   "execution_count": 83,
   "metadata": {},
   "outputs": [],
   "source": [
    "temp = (np.array(range(25)).reshape(5,5)+1)/25"
   ]
  },
  {
   "cell_type": "code",
   "execution_count": 21,
   "metadata": {},
   "outputs": [],
   "source": [
    "env = gridworld(initial_state=[0,0])"
   ]
  },
  {
   "cell_type": "code",
   "execution_count": null,
   "metadata": {},
   "outputs": [],
   "source": []
  },
  {
   "cell_type": "code",
   "execution_count": 2,
   "metadata": {},
   "outputs": [],
   "source": [
    "x = np.array([1,2,3,4,5,6])"
   ]
  },
  {
   "cell_type": "code",
   "execution_count": 5,
   "metadata": {},
   "outputs": [],
   "source": [
    "def softmax(x):\n",
    "    '''Compute softmax values of array x.\n",
    "    @param x the input array\n",
    "    @return the softmax array\n",
    "    '''\n",
    "    return np.exp(x - np.max(x)) / np.sum(np.exp(x - np.max(x)))"
   ]
  },
  {
   "cell_type": "code",
   "execution_count": 14,
   "metadata": {},
   "outputs": [
    {
     "data": {
      "text/plain": [
       "array([0.0320586 , 0.08714432, 0.23688282, 0.64391426])"
      ]
     },
     "execution_count": 14,
     "metadata": {},
     "output_type": "execute_result"
    }
   ],
   "source": [
    "softmax([1,2,3,4])"
   ]
  },
  {
   "cell_type": "code",
   "execution_count": null,
   "metadata": {},
   "outputs": [],
   "source": [
    "def bolztman_policy(params, features):\n",
    "    np.dot(params.T,features)"
   ]
  }
 ],
 "metadata": {
  "kernelspec": {
   "display_name": "Python 3",
   "language": "python",
   "name": "python3"
  },
  "language_info": {
   "codemirror_mode": {
    "name": "ipython",
    "version": 3
   },
   "file_extension": ".py",
   "mimetype": "text/x-python",
   "name": "python",
   "nbconvert_exporter": "python",
   "pygments_lexer": "ipython3",
   "version": "3.7.3"
  }
 },
 "nbformat": 4,
 "nbformat_minor": 2
}
