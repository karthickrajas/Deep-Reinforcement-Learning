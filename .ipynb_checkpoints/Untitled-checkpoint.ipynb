{
 "cells": [
  {
   "cell_type": "code",
   "execution_count": 1,
   "metadata": {},
   "outputs": [],
   "source": [
    "import numpy as np\n",
    "import matplotlib.pyplot as plt\n",
    "\n",
    "n_rows = 5\n",
    "n_cols = 5\n",
    "\n",
    "rewards = np.zeros((n_rows,n_cols))\n",
    "rewards[0,1] = 10\n",
    "rewards[0,3] = 5\n",
    "\n",
    "lamda = 0.95\n",
    "gamma = 0.5\n",
    "\n",
    "actions = np.array(['up','down','left','right'])"
   ]
  },
  {
   "cell_type": "code",
   "execution_count": 2,
   "metadata": {},
   "outputs": [],
   "source": [
    "\n",
    "state_value = np.zeros((n_rows,n_cols))\n",
    "eligibility_value = np.zeros((n_rows,n_cols))\n",
    "\n",
    "def get_actions():\n",
    "    return np.random.choice(actions)"
   ]
  },
  {
   "cell_type": "code",
   "execution_count": 3,
   "metadata": {},
   "outputs": [],
   "source": [
    "\n",
    "def get_state_reward(loc, action):\n",
    "    x, y = loc\n",
    "    reward = 0\n",
    "    if action==\"up\":\n",
    "        if x-1 < 0:\n",
    "            x = x\n",
    "            y = y\n",
    "            reward = -1\n",
    "        else:\n",
    "            x = x-1\n",
    "            y = y\n",
    "    if action==\"down\":\n",
    "        if x+1 >= n_rows:\n",
    "            x = x\n",
    "            y = y\n",
    "            reward = -1\n",
    "        else:\n",
    "            x = x+1\n",
    "            y = y\n",
    "    if action==\"left\":\n",
    "        if y-1 < 0:\n",
    "            x = x\n",
    "            y = y\n",
    "            reward = -1\n",
    "        else:\n",
    "            x = x\n",
    "            y = y-1\n",
    "    if action==\"right\":\n",
    "        if y+1 < 0:\n",
    "            x = x\n",
    "            y = y\n",
    "            reward = -1\n",
    "        else:\n",
    "            x = x\n",
    "            y = y+1\n",
    "    \n",
    "    if x==0 and y==1:\n",
    "        reward = rewards[(x,y)]\n",
    "        x = 4\n",
    "        y = y\n",
    "    \n",
    "    if x==0 and y==3:\n",
    "        reward = rewards[(x,y)]\n",
    "        x = 4\n",
    "        y = y\n",
    "    \n",
    "    return (x,y), reward"
   ]
  },
  {
   "cell_type": "code",
   "execution_count": 4,
   "metadata": {},
   "outputs": [],
   "source": [
    "def alpha(t):\n",
    "    return 1 / (divmod(t,50)[0]+1)"
   ]
  },
  {
   "cell_type": "code",
   "execution_count": null,
   "metadata": {},
   "outputs": [],
   "source": []
  },
  {
   "cell_type": "code",
   "execution_count": null,
   "metadata": {},
   "outputs": [],
   "source": []
  },
  {
   "cell_type": "code",
   "execution_count": null,
   "metadata": {},
   "outputs": [],
   "source": []
  },
  {
   "cell_type": "code",
   "execution_count": 14,
   "metadata": {},
   "outputs": [
    {
     "data": {
      "text/plain": [
       "0.3333333333333333"
      ]
     },
     "execution_count": 14,
     "metadata": {},
     "output_type": "execute_result"
    }
   ],
   "source": [
    "for _ in range(100000):\n",
    "    chosen_action = get_actions()\n",
    "    chosen_actions.append(chosen_action)\n",
    "    new_loc, reward = get_state_reward(loc,chosen_action)\n",
    "    eligibility_value = eligibility_value *lamda * gamma\n",
    "    eligibility_value[loc] = eligibility_value[loc] + 1\n",
    "    td_error = reward + gamma * state_value[new_loc] - state_value[loc]\n",
    "    state_value = state_value + 1 * td_error * eligibility_value\n",
    "    achieved.append(reward)\n",
    "    cum_achieved.append(achieved[-1]+cum_achieved[-1])"
   ]
  },
  {
   "cell_type": "markdown",
   "metadata": {},
   "source": [
    "### dynamic programming"
   ]
  },
  {
   "cell_type": "code",
   "execution_count": 15,
   "metadata": {},
   "outputs": [],
   "source": [
    "import numpy as np\n",
    "from gridworld import GridWorld\n",
    "import seaborn as sns\n",
    "import matplotlib.pyplot as plt"
   ]
  },
  {
   "cell_type": "code",
   "execution_count": 16,
   "metadata": {},
   "outputs": [],
   "source": [
    "def update_utility(utility_matrix, observation, new_observation, \n",
    "                   reward, alpha, gamma):\n",
    "    '''Return the updated utility matrix\n",
    "    @param utility_matrix the matrix before the update\n",
    "    @param observation the state obsrved at t\n",
    "    @param new_observation the state observed at t+1\n",
    "    @param reward the reward observed after the action\n",
    "    @param alpha the ste size (learning rate)\n",
    "    @param gamma the discount factor\n",
    "    @return the updated utility matrix\n",
    "    '''\n",
    "    u = utility_matrix[observation[0], observation[1]]\n",
    "    u_t1 = utility_matrix[new_observation[0], new_observation[1]]\n",
    "    utility_matrix[observation[0], observation[1]] += \\\n",
    "        alpha * (reward + gamma * u_t1 - u)\n",
    "    return utility_matrix"
   ]
  },
  {
   "cell_type": "code",
   "execution_count": 20,
   "metadata": {},
   "outputs": [
    {
     "name": "stdout",
     "output_type": "stream",
     "text": [
      "Utility matrix after 0 iterations:\n",
      "[[0. 0. 0. 0. 0.]\n",
      " [0. 0. 0. 0. 0.]\n",
      " [0. 0. 0. 0. 0.]\n",
      " [0. 0. 0. 0. 0.]\n",
      " [0. 0. 0. 0. 0.]]\n",
      "Utility matrix after 100000 iterations:\n",
      "[[-58.7181655    0.         -57.56904773   0.         -57.69133148]\n",
      " [-58.27566848 -57.65736567 -57.22530955 -57.2394612  -57.76652273]\n",
      " [-58.14707582 -57.54207153 -57.26494168 -57.44882449 -58.24827919]\n",
      " [-58.57740963 -58.04396898 -57.56504518 -57.87477862 -58.52753738]\n",
      " [-59.05933071 -58.58436823 -58.44584158 -58.62581795 -59.22098144]]\n",
      "Utility matrix after 200000 iterations:\n",
      "[[-97.14559203   0.         -95.94826371   0.         -97.26957351]\n",
      " [-97.10584827 -96.25577445 -95.77902677 -95.64164555 -96.34584422]\n",
      " [-97.0700024  -96.34467718 -95.9642837  -96.0835412  -96.62341588]\n",
      " [-97.99490365 -96.64768896 -96.49196716 -96.55195092 -97.14419975]\n",
      " [-98.32524142 -97.38511888 -97.15972076 -97.10551184 -97.70944866]]\n",
      "Utility matrix after 300000 iterations:\n",
      "[[-122.17970829    0.         -120.80485023    0.         -121.50436133]\n",
      " [-121.98287402 -120.86945152 -120.62013616 -120.72217974 -121.17657742]\n",
      " [-121.8619562  -121.3064981  -120.88873436 -120.88744448 -121.28022427]\n",
      " [-122.27193663 -121.37444221 -121.407358   -121.42506973 -121.91370638]\n",
      " [-123.13652045 -122.17980422 -122.13357449 -121.93552384 -123.32697089]]\n",
      "Utility matrix after 400000 iterations:\n",
      "[[-137.6547692     0.         -136.92951027    0.         -137.32417472]\n",
      " [-137.9335067  -137.06538538 -136.78992517 -136.85871456 -137.29513269]\n",
      " [-137.67984624 -137.09684261 -137.00945325 -137.14221727 -137.77539567]\n",
      " [-137.88421978 -137.30848296 -137.30304022 -137.73880664 -138.28192752]\n",
      " [-138.71222146 -138.22318707 -137.91582725 -138.32911669 -139.02352258]]\n",
      "Utility matrix after 500000 iterations:\n",
      "[[-148.28666151    0.         -147.25828181    0.         -147.72289806]\n",
      " [-148.24783915 -147.67060893 -147.15558335 -147.22650685 -147.90789509]\n",
      " [-148.21342374 -147.42697382 -147.22885088 -147.34064657 -147.96380355]\n",
      " [-148.80422714 -147.92966412 -147.58880956 -147.77413179 -148.2468346 ]\n",
      " [-149.96327732 -148.83456479 -148.288925   -148.52043171 -148.92645601]]\n",
      "Utility matrix after 600000 iterations:\n",
      "[[-155.25549358    0.         -154.36661258    0.         -155.83819498]\n",
      " [-155.16447209 -154.49387576 -154.19255803 -154.17796468 -154.99896717]\n",
      " [-155.0097446  -154.40154958 -154.1914076  -154.29626598 -154.95048258]\n",
      " [-155.03846531 -154.72365196 -154.52813503 -154.91194991 -155.19201301]\n",
      " [-155.96984498 -155.23132228 -155.23831398 -155.79149265 -156.24473734]]\n",
      "Utility matrix after 700000 iterations:\n",
      "[[-159.75523585    0.         -158.57392563    0.         -159.11241746]\n",
      " [-159.52146405 -158.63951606 -158.20572399 -158.41461378 -158.85045703]\n",
      " [-159.24523451 -158.6324977  -158.43765056 -158.79621249 -159.73661174]\n",
      " [-160.04009495 -159.39737644 -158.87974239 -159.20524899 -160.15609295]\n",
      " [-160.68193784 -160.10216823 -159.83366315 -159.80683757 -160.91928621]]\n",
      "Utility matrix after 800000 iterations:\n",
      "[[-162.76827358    0.         -161.62914035    0.         -161.91963599]\n",
      " [-162.0898084  -161.40272825 -161.11178714 -161.0807383  -161.64509637]\n",
      " [-162.04052892 -161.35112914 -161.07425372 -161.27298436 -161.64347421]\n",
      " [-162.25917333 -161.67159597 -161.55391682 -161.57009911 -162.08630451]\n",
      " [-162.88127201 -161.94448339 -162.02973499 -162.43991835 -163.17415509]]\n",
      "Utility matrix after 900000 iterations:\n",
      "[[-163.81214975    0.         -163.02127595    0.         -163.05469016]\n",
      " [-163.63708635 -162.9797436  -162.33151386 -162.25006346 -162.66979571]\n",
      " [-163.47805448 -162.89376421 -162.34121184 -162.46363512 -162.98523434]\n",
      " [-164.12850623 -163.18524134 -162.89542888 -162.75783732 -163.02257007]\n",
      " [-164.49144625 -163.88455977 -163.39358785 -163.20593937 -163.49465248]]\n",
      "Utility matrix after 1000000 iterations:\n",
      "[[-165.82729066    0.         -164.71424771    0.         -165.01841104]\n",
      " [-164.9841183  -164.59902198 -164.30622752 -164.21663493 -164.65693255]\n",
      " [-165.1769517  -164.70883768 -164.325497   -164.35233601 -164.59692977]\n",
      " [-165.47206421 -164.90168773 -164.72703973 -164.90149719 -165.41898743]\n",
      " [-166.04094273 -165.52253661 -165.52255067 -165.57048049 -165.93804376]]\n"
     ]
    }
   ],
   "source": [
    "env = GridWorld()\n",
    "#Define the state matrix\n",
    "state_matrix = np.zeros((5,5))\n",
    "#Define the state matrix\n",
    "policy_matrix = np.zeros((5,5))\n",
    "env.setStateMatrix(state_matrix)\n",
    "utility_matrix = np.zeros((5,5))\n",
    "gamma = 0.999\n",
    "alpha = 0.1 #constant step size\n",
    "tot_epoch = 30000\n",
    "print_epoch = 1000\n",
    "observation = env.reset(exploring_starts=False)\n",
    "for step in range(1000001):\n",
    "    #Take the action from the action matrix\n",
    "    action = policy_matrix[observation[0], observation[1]]\n",
    "    #Move one step in the environment and get obs and reward\n",
    "    new_observation, reward = env.step(action)\n",
    "    utility_matrix = update_utility(utility_matrix, observation,new_observation, reward, alpha, gamma)\n",
    "    observation = new_observation\n",
    "    #Time to check the utility matrix obtained\n",
    "    if step%100000==0:\n",
    "        print(\"Utility matrix after \" + str(step) + \" iterations:\")\n",
    "        print(utility_matrix)"
   ]
  },
  {
   "cell_type": "code",
   "execution_count": 21,
   "metadata": {},
   "outputs": [
    {
     "data": {
      "image/png": "[encoded data removed]",
      "text/plain": [
       "<Figure size 432x288 with 2 Axes>"
      ]
     },
     "metadata": {
      "needs_background": "light"
     },
     "output_type": "display_data"
    }
   ],
   "source": [
    "sns.heatmap(utility_matrix, annot=True)\n",
    "plt.show()"
   ]
  },
  {
   "cell_type": "code",
   "execution_count": null,
   "metadata": {},
   "outputs": [],
   "source": []
  }
 ],
 "metadata": {
  "kernelspec": {
   "display_name": "Python 3",
   "language": "python",
   "name": "python3"
  },
  "language_info": {
   "codemirror_mode": {
    "name": "ipython",
    "version": 3
   },
   "file_extension": ".py",
   "mimetype": "text/x-python",
   "name": "python",
   "nbconvert_exporter": "python",
   "pygments_lexer": "ipython3",
   "version": "3.7.3"
  }
 },
 "nbformat": 4,
 "nbformat_minor": 2
}
